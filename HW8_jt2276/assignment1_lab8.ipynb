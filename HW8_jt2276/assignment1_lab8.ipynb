{
 "cells": [
  {
   "cell_type": "markdown",
   "metadata": {},
   "source": [
    "# Working with Data - Computer Lab for Guest Lecture Julia Lane\n",
    "\n",
    "In this computer lab we will learn more more details and practice data work to enhance the content of the lecture presented by Julia Lane on responsible data use. We will address a research question, think about data and measurement errors, and manipulate data. \n",
    "\n",
    "OUTLINE: \n",
    "1. Define a research question \n",
    "2. Think about what data are available \n",
    "3. Think about possible measurement errors \n",
    "4. Think about the interpretation of your results \n",
    "5. Inform your results by linking datasets "
   ]
  },
  {
   "cell_type": "markdown",
   "metadata": {
    "raw_mimetype": "text/markdown"
   },
   "source": [
    "# 1. Define a reserach question\n",
    "Which Community Districts in NYC show the highest number of complaints?\n",
    "\n",
    "# 2. Think about what data are available\n",
    "Find suitable data by searching the CUSP Data Catalog https://datahub.cusp.nyu.edu/catalog. You can use Urban Profiler to investigate the Metadata associated with each dataset. Using this tool will help you to decide which attributes of the data you need to answer your question so you don't have to load the entire dataset. "
   ]
  },
  {
   "cell_type": "code",
   "execution_count": 87,
   "metadata": {
    "collapsed": false
   },
   "outputs": [],
   "source": [
    "import os\n",
    "import pandas as pd\n",
    "import numpy as np\n",
    "import re\n",
    "import matplotlib as plt\n",
    "DFdata = os.getenv('DFDATA')\n",
    "%matplotlib inline"
   ]
  },
  {
   "cell_type": "code",
   "execution_count": 46,
   "metadata": {
    "collapsed": false
   },
   "outputs": [
    {
     "data": {
      "text/html": [
       "<div>\n",
       "<table border=\"1\" class=\"dataframe\">\n",
       "  <thead>\n",
       "    <tr style=\"text-align: right;\">\n",
       "      <th></th>\n",
       "      <th>Agency Name</th>\n",
       "      <th>Complaint Type</th>\n",
       "      <th>Descriptor</th>\n",
       "      <th>Resolution Description</th>\n",
       "      <th>Community Board</th>\n",
       "      <th>Borough</th>\n",
       "    </tr>\n",
       "  </thead>\n",
       "  <tbody>\n",
       "    <tr>\n",
       "      <th>0</th>\n",
       "      <td>New York City Police Department</td>\n",
       "      <td>Noise - Residential</td>\n",
       "      <td>Loud Talking</td>\n",
       "      <td>Your complaint has been received by the Police...</td>\n",
       "      <td>04 BROOKLYN</td>\n",
       "      <td>BROOKLYN</td>\n",
       "    </tr>\n",
       "    <tr>\n",
       "      <th>1</th>\n",
       "      <td>New York City Police Department</td>\n",
       "      <td>Noise - Residential</td>\n",
       "      <td>Loud Music/Party</td>\n",
       "      <td>Your complaint has been received by the Police...</td>\n",
       "      <td>17 BROOKLYN</td>\n",
       "      <td>BROOKLYN</td>\n",
       "    </tr>\n",
       "    <tr>\n",
       "      <th>2</th>\n",
       "      <td>New York City Police Department</td>\n",
       "      <td>Noise - Residential</td>\n",
       "      <td>Loud Music/Party</td>\n",
       "      <td>The Police Department responded to the complai...</td>\n",
       "      <td>12 MANHATTAN</td>\n",
       "      <td>MANHATTAN</td>\n",
       "    </tr>\n",
       "    <tr>\n",
       "      <th>3</th>\n",
       "      <td>New York City Police Department</td>\n",
       "      <td>Noise - Residential</td>\n",
       "      <td>Loud Music/Party</td>\n",
       "      <td>Your complaint has been received by the Police...</td>\n",
       "      <td>03 BRONX</td>\n",
       "      <td>BRONX</td>\n",
       "    </tr>\n",
       "    <tr>\n",
       "      <th>4</th>\n",
       "      <td>New York City Police Department</td>\n",
       "      <td>Noise - Commercial</td>\n",
       "      <td>Loud Music/Party</td>\n",
       "      <td>Your complaint has been received by the Police...</td>\n",
       "      <td>10 BRONX</td>\n",
       "      <td>BRONX</td>\n",
       "    </tr>\n",
       "  </tbody>\n",
       "</table>\n",
       "</div>"
      ],
      "text/plain": [
       "                       Agency Name       Complaint Type        Descriptor  \\\n",
       "0  New York City Police Department  Noise - Residential      Loud Talking   \n",
       "1  New York City Police Department  Noise - Residential  Loud Music/Party   \n",
       "2  New York City Police Department  Noise - Residential  Loud Music/Party   \n",
       "3  New York City Police Department  Noise - Residential  Loud Music/Party   \n",
       "4  New York City Police Department   Noise - Commercial  Loud Music/Party   \n",
       "\n",
       "                              Resolution Description Community Board  \\\n",
       "0  Your complaint has been received by the Police...     04 BROOKLYN   \n",
       "1  Your complaint has been received by the Police...     17 BROOKLYN   \n",
       "2  The Police Department responded to the complai...    12 MANHATTAN   \n",
       "3  Your complaint has been received by the Police...        03 BRONX   \n",
       "4  Your complaint has been received by the Police...        10 BRONX   \n",
       "\n",
       "     Borough  \n",
       "0   BROOKLYN  \n",
       "1   BROOKLYN  \n",
       "2  MANHATTAN  \n",
       "3      BRONX  \n",
       "4      BRONX  "
      ]
     },
     "execution_count": 46,
     "metadata": {},
     "output_type": "execute_result"
    }
   ],
   "source": [
    "# Load dataset\n",
    "df = pd.read_csv('https://data.cityofnewyork.us/resource/erm2-nwe9.csv', usecols=['Agency Name', 'Complaint Type', 'Descriptor',\n",
    "       'Resolution Description',\n",
    "      'Community Board', 'Borough'])\n",
    "\n",
    "df.head()"
   ]
  },
  {
   "cell_type": "markdown",
   "metadata": {},
   "source": [
    "# 3. Think about possible measurement errors\n",
    "Do you see any problems regarding possible measurement error? Think about who is represented in the data, ommissions, duplications, content error, missing data, etc. "
   ]
  },
  {
   "cell_type": "code",
   "execution_count": 41,
   "metadata": {
    "collapsed": false
   },
   "outputs": [
    {
     "name": "stdout",
     "output_type": "stream",
     "text": [
      "['04 BROOKLYN' '17 BROOKLYN' '12 MANHATTAN' '03 BRONX' '10 BRONX'\n",
      " '01 BRONX' '07 BRONX' '04 BRONX' '01 BROOKLYN' '12 BRONX' '11 BRONX'\n",
      " '07 MANHATTAN' '06 MANHATTAN' '13 BROOKLYN' '07 QUEENS' '02 QUEENS'\n",
      " '02 BRONX' '08 BROOKLYN' '11 BROOKLYN' '03 MANHATTAN' '02 BROOKLYN'\n",
      " '01 QUEENS' '04 MANHATTAN' '14 BROOKLYN' '09 MANHATTAN' '06 BROOKLYN'\n",
      " '08 MANHATTAN' '18 BROOKLYN' '11 MANHATTAN' '03 BROOKLYN' '04 QUEENS'\n",
      " '06 QUEENS' '09 BROOKLYN' '12 QUEENS' '05 BRONX' '05 BROOKLYN'\n",
      " '10 MANHATTAN' '11 QUEENS' '09 QUEENS' '02 MANHATTAN' '08 BRONX'\n",
      " '10 QUEENS' '01 STATEN ISLAND' '03 QUEENS' '07 BROOKLYN'\n",
      " '02 STATEN ISLAND' '06 BRONX' '05 QUEENS' '09 BRONX' '14 QUEENS'\n",
      " '12 BROOKLYN' '05 MANHATTAN' '15 BROOKLYN' '13 QUEENS' '03 STATEN ISLAND'\n",
      " '01 MANHATTAN' '08 QUEENS' '10 BROOKLYN' '0 Unspecified' '16 BROOKLYN'\n",
      " 'Unspecified BROOKLYN']\n",
      "There are 61 unique entries\n"
     ]
    }
   ],
   "source": [
    "# Check if all Boroughs and Community Districts are represented in the Data \n",
    "print(df['Community Board'].unique())"
   ]
  },
  {
   "cell_type": "markdown",
   "metadata": {},
   "source": [
    "All 59 Districts are present, plus an additional 2 'unspecified' districts, making 61 total."
   ]
  },
  {
   "cell_type": "code",
   "execution_count": 42,
   "metadata": {
    "collapsed": false
   },
   "outputs": [
    {
     "name": "stdout",
     "output_type": "stream",
     "text": [
      "There are 61 unique entries\n"
     ]
    }
   ],
   "source": [
    "# How many unique values do we have? \n",
    "print('There are ' + str(df['Community Board'].unique().size) + ' unique entries')"
   ]
  },
  {
   "cell_type": "code",
   "execution_count": 6,
   "metadata": {
    "collapsed": false
   },
   "outputs": [],
   "source": [
    "# Why do we have so many? Some of them are unspecified, missing. Some might be invalid entries. \n",
    "# We should have 59 Community Districts."
   ]
  },
  {
   "cell_type": "markdown",
   "metadata": {},
   "source": [
    "We have additional districts because some entries were unable to be narrowed down by borough or district and were thus left 'unspecified'"
   ]
  },
  {
   "cell_type": "code",
   "execution_count": 47,
   "metadata": {
    "collapsed": false
   },
   "outputs": [
    {
     "name": "stdout",
     "output_type": "stream",
     "text": [
      "(1000, 6)\n",
      "(551, 6)\n"
     ]
    }
   ],
   "source": [
    "# Check for duplicates? Are these plausible?\n",
    "print(df.shape)\n",
    "print(df.drop_duplicates().shape)"
   ]
  },
  {
   "cell_type": "markdown",
   "metadata": {},
   "source": [
    "We see that of our sample of the 311 calls, nearly half match along the 6 columns of interest, which is not unusual since this just requires that the complaint, resolution and community district match up."
   ]
  },
  {
   "cell_type": "code",
   "execution_count": 48,
   "metadata": {
    "collapsed": true
   },
   "outputs": [],
   "source": [
    "# Data Editing: Is it possible to replace missing values? Is it possible to use Complaint Type \n",
    "# to fill missings in Resolution Descriptor?\n",
    "df[\"Resolution Description\"].fillna(df[\"Complaint Type\"], inplace=True)"
   ]
  },
  {
   "cell_type": "code",
   "execution_count": 55,
   "metadata": {
    "collapsed": false
   },
   "outputs": [],
   "source": [
    "# Generate marker for unplausible Community Districts\n",
    "# How do these districts look like? \n",
    "df['Marker'] = df['Community Board'].str.contains('Unspecified', case=False)\n"
   ]
  },
  {
   "cell_type": "markdown",
   "metadata": {},
   "source": [
    "We remove any entry with a community district listed as 'unspecified'."
   ]
  },
  {
   "cell_type": "code",
   "execution_count": 56,
   "metadata": {
    "collapsed": false
   },
   "outputs": [
    {
     "data": {
      "text/html": [
       "<div>\n",
       "<table border=\"1\" class=\"dataframe\">\n",
       "  <thead>\n",
       "    <tr style=\"text-align: right;\">\n",
       "      <th></th>\n",
       "      <th>Agency Name</th>\n",
       "      <th>Complaint Type</th>\n",
       "      <th>Descriptor</th>\n",
       "      <th>Resolution Description</th>\n",
       "      <th>Community Board</th>\n",
       "      <th>Borough</th>\n",
       "      <th>Marker</th>\n",
       "    </tr>\n",
       "  </thead>\n",
       "  <tbody>\n",
       "    <tr>\n",
       "      <th>0</th>\n",
       "      <td>New York City Police Department</td>\n",
       "      <td>Noise - Residential</td>\n",
       "      <td>Loud Talking</td>\n",
       "      <td>Your complaint has been received by the Police...</td>\n",
       "      <td>04 BROOKLYN</td>\n",
       "      <td>BROOKLYN</td>\n",
       "      <td>False</td>\n",
       "    </tr>\n",
       "    <tr>\n",
       "      <th>1</th>\n",
       "      <td>New York City Police Department</td>\n",
       "      <td>Noise - Residential</td>\n",
       "      <td>Loud Music/Party</td>\n",
       "      <td>Your complaint has been received by the Police...</td>\n",
       "      <td>17 BROOKLYN</td>\n",
       "      <td>BROOKLYN</td>\n",
       "      <td>False</td>\n",
       "    </tr>\n",
       "    <tr>\n",
       "      <th>2</th>\n",
       "      <td>New York City Police Department</td>\n",
       "      <td>Noise - Residential</td>\n",
       "      <td>Loud Music/Party</td>\n",
       "      <td>The Police Department responded to the complai...</td>\n",
       "      <td>12 MANHATTAN</td>\n",
       "      <td>MANHATTAN</td>\n",
       "      <td>False</td>\n",
       "    </tr>\n",
       "    <tr>\n",
       "      <th>3</th>\n",
       "      <td>New York City Police Department</td>\n",
       "      <td>Noise - Residential</td>\n",
       "      <td>Loud Music/Party</td>\n",
       "      <td>Your complaint has been received by the Police...</td>\n",
       "      <td>03 BRONX</td>\n",
       "      <td>BRONX</td>\n",
       "      <td>False</td>\n",
       "    </tr>\n",
       "    <tr>\n",
       "      <th>4</th>\n",
       "      <td>New York City Police Department</td>\n",
       "      <td>Noise - Commercial</td>\n",
       "      <td>Loud Music/Party</td>\n",
       "      <td>Your complaint has been received by the Police...</td>\n",
       "      <td>10 BRONX</td>\n",
       "      <td>BRONX</td>\n",
       "      <td>False</td>\n",
       "    </tr>\n",
       "  </tbody>\n",
       "</table>\n",
       "</div>"
      ],
      "text/plain": [
       "                       Agency Name       Complaint Type        Descriptor  \\\n",
       "0  New York City Police Department  Noise - Residential      Loud Talking   \n",
       "1  New York City Police Department  Noise - Residential  Loud Music/Party   \n",
       "2  New York City Police Department  Noise - Residential  Loud Music/Party   \n",
       "3  New York City Police Department  Noise - Residential  Loud Music/Party   \n",
       "4  New York City Police Department   Noise - Commercial  Loud Music/Party   \n",
       "\n",
       "                              Resolution Description Community Board  \\\n",
       "0  Your complaint has been received by the Police...     04 BROOKLYN   \n",
       "1  Your complaint has been received by the Police...     17 BROOKLYN   \n",
       "2  The Police Department responded to the complai...    12 MANHATTAN   \n",
       "3  Your complaint has been received by the Police...        03 BRONX   \n",
       "4  Your complaint has been received by the Police...        10 BRONX   \n",
       "\n",
       "     Borough Marker  \n",
       "0   BROOKLYN  False  \n",
       "1   BROOKLYN  False  \n",
       "2  MANHATTAN  False  \n",
       "3      BRONX  False  \n",
       "4      BRONX  False  "
      ]
     },
     "execution_count": 56,
     "metadata": {},
     "output_type": "execute_result"
    }
   ],
   "source": [
    "# Drop the marked districts\n",
    "df = df[df['Marker'] == False]\n",
    "df.head()"
   ]
  },
  {
   "cell_type": "code",
   "execution_count": 70,
   "metadata": {
    "collapsed": false
   },
   "outputs": [
    {
     "name": "stderr",
     "output_type": "stream",
     "text": [
      "/opt/rh/anaconda/root/envs/PUI2016_Python3/lib/python3.5/site-packages/ipykernel/__main__.py:3: FutureWarning: sort(columns=....) is deprecated, use sort_values(by=.....)\n",
      "  app.launch_new_instance()\n"
     ]
    },
    {
     "data": {
      "text/html": [
       "<div>\n",
       "<table border=\"1\" class=\"dataframe\">\n",
       "  <thead>\n",
       "    <tr style=\"text-align: right;\">\n",
       "      <th></th>\n",
       "      <th>Complaint Ranking</th>\n",
       "      <th>Community Board</th>\n",
       "      <th>Number of Complaints</th>\n",
       "    </tr>\n",
       "  </thead>\n",
       "  <tbody>\n",
       "    <tr>\n",
       "      <th>0</th>\n",
       "      <td>1</td>\n",
       "      <td>12 MANHATTAN</td>\n",
       "      <td>70</td>\n",
       "    </tr>\n",
       "    <tr>\n",
       "      <th>1</th>\n",
       "      <td>2</td>\n",
       "      <td>03 MANHATTAN</td>\n",
       "      <td>48</td>\n",
       "    </tr>\n",
       "    <tr>\n",
       "      <th>2</th>\n",
       "      <td>3</td>\n",
       "      <td>05 QUEENS</td>\n",
       "      <td>36</td>\n",
       "    </tr>\n",
       "    <tr>\n",
       "      <th>3</th>\n",
       "      <td>4</td>\n",
       "      <td>04 BROOKLYN</td>\n",
       "      <td>34</td>\n",
       "    </tr>\n",
       "    <tr>\n",
       "      <th>4</th>\n",
       "      <td>5</td>\n",
       "      <td>01 BROOKLYN</td>\n",
       "      <td>32</td>\n",
       "    </tr>\n",
       "  </tbody>\n",
       "</table>\n",
       "</div>"
      ],
      "text/plain": [
       "   Complaint Ranking Community Board  Number of Complaints\n",
       "0                  1    12 MANHATTAN                    70\n",
       "1                  2    03 MANHATTAN                    48\n",
       "2                  3       05 QUEENS                    36\n",
       "3                  4     04 BROOKLYN                    34\n",
       "4                  5     01 BROOKLYN                    32"
      ]
     },
     "execution_count": 70,
     "metadata": {},
     "output_type": "execute_result"
    }
   ],
   "source": [
    "# Produce your result: Generate an indicator which ranks the Community District by complaint numbers \n",
    "# on the Community district level\n",
    "df_311 = pd.DataFrame(df[\"Complaint Type\"].groupby(df[\"Community Board\"]).count()).sort(columns='Complaint Type', ascending=False).reset_index().reset_index()\n",
    "df_311 = df_311.rename(index=str, columns={\"index\": \"Complaint Ranking\", \"Complaint Type\": \"Number of Complaints\"})\n",
    "df_311['Complaint Ranking'] = df_311['Complaint Ranking'] + 1\n",
    "df_311.head()"
   ]
  },
  {
   "cell_type": "markdown",
   "metadata": {},
   "source": [
    "# 4. Think about the interpretation of your results?\n",
    "What do you have to keep in mind when interpreting your results? Are they generable? Does the way the data is collected influence your results? To better inform city agancies it might be good to explore in more detail the underlying dempgraphics/infrastructure of a Community District becasue this might influence 311 calls. You can do this by merging external data on the Community District level to your analysis data. "
   ]
  },
  {
   "cell_type": "code",
   "execution_count": 14,
   "metadata": {
    "collapsed": false
   },
   "outputs": [
    {
     "data": {
      "text/html": [
       "<div>\n",
       "<table border=\"1\" class=\"dataframe\">\n",
       "  <thead>\n",
       "    <tr style=\"text-align: right;\">\n",
       "      <th></th>\n",
       "      <th>cd_id</th>\n",
       "      <th>Total Population</th>\n",
       "      <th>Population Density (per sq. mile)</th>\n",
       "      <th>% Population 5 Years And Over: Speak Only English</th>\n",
       "      <th>% Population 5 Years And Over: Spanish or Spanish Creole</th>\n",
       "      <th>% Population 5 Years And Over: Spanish or Spanish Creole: Speak English Less Than \"very Well\"</th>\n",
       "      <th>Population 25 Years and over: Master's degree or more</th>\n",
       "      <th>Median household income (In 2014 Inflation Adjusted Dollars)</th>\n",
       "      <th>Per capita income (In 2014 Inflation Adjusted Dollars)</th>\n",
       "    </tr>\n",
       "  </thead>\n",
       "  <tbody>\n",
       "    <tr>\n",
       "      <th>0</th>\n",
       "      <td>BX08</td>\n",
       "      <td>106737</td>\n",
       "      <td>31229.95006</td>\n",
       "      <td>46.80</td>\n",
       "      <td>39.24</td>\n",
       "      <td>15.24</td>\n",
       "      <td>13421</td>\n",
       "      <td>54224</td>\n",
       "      <td>30730</td>\n",
       "    </tr>\n",
       "    <tr>\n",
       "      <th>1</th>\n",
       "      <td>BX12</td>\n",
       "      <td>134644</td>\n",
       "      <td>19966.67839</td>\n",
       "      <td>73.09</td>\n",
       "      <td>18.19</td>\n",
       "      <td>6.07</td>\n",
       "      <td>5466</td>\n",
       "      <td>44906</td>\n",
       "      <td>21523</td>\n",
       "    </tr>\n",
       "    <tr>\n",
       "      <th>2</th>\n",
       "      <td>BX10</td>\n",
       "      <td>121209</td>\n",
       "      <td>12913.81703</td>\n",
       "      <td>61.79</td>\n",
       "      <td>26.43</td>\n",
       "      <td>6.92</td>\n",
       "      <td>8959</td>\n",
       "      <td>54962</td>\n",
       "      <td>28586</td>\n",
       "    </tr>\n",
       "    <tr>\n",
       "      <th>3</th>\n",
       "      <td>BX11</td>\n",
       "      <td>135839</td>\n",
       "      <td>35677.95453</td>\n",
       "      <td>43.22</td>\n",
       "      <td>36.45</td>\n",
       "      <td>13.66</td>\n",
       "      <td>10174</td>\n",
       "      <td>47910</td>\n",
       "      <td>22714</td>\n",
       "    </tr>\n",
       "    <tr>\n",
       "      <th>4</th>\n",
       "      <td>BX03</td>\n",
       "      <td>172247</td>\n",
       "      <td>39405.79222</td>\n",
       "      <td>36.82</td>\n",
       "      <td>54.24</td>\n",
       "      <td>24.14</td>\n",
       "      <td>3781</td>\n",
       "      <td>22041</td>\n",
       "      <td>12662</td>\n",
       "    </tr>\n",
       "  </tbody>\n",
       "</table>\n",
       "</div>"
      ],
      "text/plain": [
       "  cd_id  Total Population  Population Density (per sq. mile)  \\\n",
       "0  BX08            106737                        31229.95006   \n",
       "1  BX12            134644                        19966.67839   \n",
       "2  BX10            121209                        12913.81703   \n",
       "3  BX11            135839                        35677.95453   \n",
       "4  BX03            172247                        39405.79222   \n",
       "\n",
       "   % Population 5 Years And Over: Speak Only English  \\\n",
       "0                                              46.80   \n",
       "1                                              73.09   \n",
       "2                                              61.79   \n",
       "3                                              43.22   \n",
       "4                                              36.82   \n",
       "\n",
       "   % Population 5 Years And Over: Spanish or Spanish Creole  \\\n",
       "0                                              39.24          \n",
       "1                                              18.19          \n",
       "2                                              26.43          \n",
       "3                                              36.45          \n",
       "4                                              54.24          \n",
       "\n",
       "   % Population 5 Years And Over: Spanish or Spanish Creole: Speak English Less Than \"very Well\"  \\\n",
       "0                                              15.24                                               \n",
       "1                                               6.07                                               \n",
       "2                                               6.92                                               \n",
       "3                                              13.66                                               \n",
       "4                                              24.14                                               \n",
       "\n",
       "   Population 25 Years and over: Master's degree or more  \\\n",
       "0                                              13421       \n",
       "1                                               5466       \n",
       "2                                               8959       \n",
       "3                                              10174       \n",
       "4                                               3781       \n",
       "\n",
       "   Median household income (In 2014 Inflation Adjusted Dollars)  \\\n",
       "0                                              54224              \n",
       "1                                              44906              \n",
       "2                                              54962              \n",
       "3                                              47910              \n",
       "4                                              22041              \n",
       "\n",
       "   Per capita income (In 2014 Inflation Adjusted Dollars)  \n",
       "0                                              30730       \n",
       "1                                              21523       \n",
       "2                                              28586       \n",
       "3                                              22714       \n",
       "4                                              12662       "
      ]
     },
     "execution_count": 14,
     "metadata": {},
     "output_type": "execute_result"
    }
   ],
   "source": [
    "# Population by Community District\n",
    "df_pop = pd.read_csv(\"http://cosmo.nyu.edu/~fb55/PUI2016/data/Final_Demographics.csv\")\n",
    "df_pop = df_pop[[\"cd_id\", \"Total Population\", \"Population Density (per sq. mile)\", '% Population 5 Years And Over: Speak Only English',\n",
    "                '% Population 5 Years And Over: Spanish or Spanish Creole', '% Population 5 Years And Over: Spanish or Spanish Creole: Speak English Less Than \"very Well\"',\n",
    "                \"Population 25 Years and over: Master's degree or more\", 'Median household income (In 2014 Inflation Adjusted Dollars)',\n",
    "                'Per capita income (In 2014 Inflation Adjusted Dollars)']]\n",
    "df_pop.head()"
   ]
  },
  {
   "cell_type": "code",
   "execution_count": 15,
   "metadata": {
    "collapsed": false
   },
   "outputs": [
    {
     "data": {
      "text/plain": [
       "Index(['cd_id', 'Total Population', 'Population Density (per sq. mile)',\n",
       "       '% Population 5 Years And Over: Speak Only English',\n",
       "       '% Population 5 Years And Over: Spanish or Spanish Creole',\n",
       "       '% Population 5 Years And Over: Spanish or Spanish Creole: Speak English Less Than \"very Well\"',\n",
       "       'Population 25 Years and over: Master's degree or more',\n",
       "       'Median household income (In 2014 Inflation Adjusted Dollars)',\n",
       "       'Per capita income (In 2014 Inflation Adjusted Dollars)'],\n",
       "      dtype='object')"
      ]
     },
     "execution_count": 15,
     "metadata": {},
     "output_type": "execute_result"
    }
   ],
   "source": [
    "# Check variables in file\n",
    "df_pop.columns"
   ]
  },
  {
   "cell_type": "code",
   "execution_count": 16,
   "metadata": {
    "collapsed": false
   },
   "outputs": [
    {
     "data": {
      "text/plain": [
       "count       59\n",
       "unique      59\n",
       "top       BX11\n",
       "freq         1\n",
       "Name: cd_id, dtype: object"
      ]
     },
     "execution_count": 16,
     "metadata": {},
     "output_type": "execute_result"
    }
   ],
   "source": [
    "# How many community districts are in file? \n",
    "df_pop.cd_id.describe()"
   ]
  },
  {
   "cell_type": "markdown",
   "metadata": {},
   "source": [
    "There are exactly 59 community districts in the file."
   ]
  },
  {
   "cell_type": "code",
   "execution_count": 71,
   "metadata": {
    "collapsed": false
   },
   "outputs": [
    {
     "data": {
      "text/html": [
       "<div>\n",
       "<table border=\"1\" class=\"dataframe\">\n",
       "  <thead>\n",
       "    <tr style=\"text-align: right;\">\n",
       "      <th></th>\n",
       "      <th>Community Board</th>\n",
       "      <th>Total Population</th>\n",
       "      <th>Population Density (per sq. mile)</th>\n",
       "      <th>% Population 5 Years And Over: Speak Only English</th>\n",
       "      <th>% Population 5 Years And Over: Spanish or Spanish Creole</th>\n",
       "      <th>% Population 5 Years And Over: Spanish or Spanish Creole: Speak English Less Than \"very Well\"</th>\n",
       "      <th>Population 25 Years and over: Master's degree or more</th>\n",
       "      <th>Median household income (In 2014 Inflation Adjusted Dollars)</th>\n",
       "      <th>Per capita income (In 2014 Inflation Adjusted Dollars)</th>\n",
       "    </tr>\n",
       "  </thead>\n",
       "  <tbody>\n",
       "    <tr>\n",
       "      <th>17</th>\n",
       "      <td>MN07</td>\n",
       "      <td>192374</td>\n",
       "      <td>65024.96109</td>\n",
       "      <td>73.38</td>\n",
       "      <td>6.42</td>\n",
       "      <td>1.06</td>\n",
       "      <td>70490</td>\n",
       "      <td>106181</td>\n",
       "      <td>94856</td>\n",
       "    </tr>\n",
       "    <tr>\n",
       "      <th>19</th>\n",
       "      <td>MN04</td>\n",
       "      <td>149447</td>\n",
       "      <td>48626.99095</td>\n",
       "      <td>73.93</td>\n",
       "      <td>5.37</td>\n",
       "      <td>1.11</td>\n",
       "      <td>40322</td>\n",
       "      <td>98561</td>\n",
       "      <td>87756</td>\n",
       "    </tr>\n",
       "    <tr>\n",
       "      <th>20</th>\n",
       "      <td>MN06</td>\n",
       "      <td>143349</td>\n",
       "      <td>87333.79104</td>\n",
       "      <td>78.30</td>\n",
       "      <td>4.53</td>\n",
       "      <td>1.13</td>\n",
       "      <td>45406</td>\n",
       "      <td>105625</td>\n",
       "      <td>90557</td>\n",
       "    </tr>\n",
       "    <tr>\n",
       "      <th>14</th>\n",
       "      <td>MN10</td>\n",
       "      <td>132027</td>\n",
       "      <td>91244.88989</td>\n",
       "      <td>74.19</td>\n",
       "      <td>6.94</td>\n",
       "      <td>1.88</td>\n",
       "      <td>15679</td>\n",
       "      <td>40564</td>\n",
       "      <td>32585</td>\n",
       "    </tr>\n",
       "    <tr>\n",
       "      <th>32</th>\n",
       "      <td>BK08</td>\n",
       "      <td>126747</td>\n",
       "      <td>57010.54356</td>\n",
       "      <td>80.23</td>\n",
       "      <td>5.63</td>\n",
       "      <td>2.03</td>\n",
       "      <td>12476</td>\n",
       "      <td>44904</td>\n",
       "      <td>25917</td>\n",
       "    </tr>\n",
       "  </tbody>\n",
       "</table>\n",
       "</div>"
      ],
      "text/plain": [
       "   Community Board  Total Population  Population Density (per sq. mile)  \\\n",
       "17            MN07            192374                        65024.96109   \n",
       "19            MN04            149447                        48626.99095   \n",
       "20            MN06            143349                        87333.79104   \n",
       "14            MN10            132027                        91244.88989   \n",
       "32            BK08            126747                        57010.54356   \n",
       "\n",
       "    % Population 5 Years And Over: Speak Only English  \\\n",
       "17                                              73.38   \n",
       "19                                              73.93   \n",
       "20                                              78.30   \n",
       "14                                              74.19   \n",
       "32                                              80.23   \n",
       "\n",
       "    % Population 5 Years And Over: Spanish or Spanish Creole  \\\n",
       "17                                               6.42          \n",
       "19                                               5.37          \n",
       "20                                               4.53          \n",
       "14                                               6.94          \n",
       "32                                               5.63          \n",
       "\n",
       "    % Population 5 Years And Over: Spanish or Spanish Creole: Speak English Less Than \"very Well\"  \\\n",
       "17                                               1.06                                               \n",
       "19                                               1.11                                               \n",
       "20                                               1.13                                               \n",
       "14                                               1.88                                               \n",
       "32                                               2.03                                               \n",
       "\n",
       "    Population 25 Years and over: Master's degree or more  \\\n",
       "17                                              70490       \n",
       "19                                              40322       \n",
       "20                                              45406       \n",
       "14                                              15679       \n",
       "32                                              12476       \n",
       "\n",
       "    Median household income (In 2014 Inflation Adjusted Dollars)  \\\n",
       "17                                             106181              \n",
       "19                                              98561              \n",
       "20                                             105625              \n",
       "14                                              40564              \n",
       "32                                              44904              \n",
       "\n",
       "    Per capita income (In 2014 Inflation Adjusted Dollars)  \n",
       "17                                              94856       \n",
       "19                                              87756       \n",
       "20                                              90557       \n",
       "14                                              32585       \n",
       "32                                              25917       "
      ]
     },
     "execution_count": 71,
     "metadata": {},
     "output_type": "execute_result"
    }
   ],
   "source": [
    "# Manipulate data to get some information on demographics by Community District. \n",
    "# Think about who might be more likely to call 311\n",
    "df_pop = df_pop.sort_values(by='% Population 5 Years And Over: Spanish or Spanish Creole: Speak English Less Than \"very Well\"')\n",
    "df_pop.head()"
   ]
  },
  {
   "cell_type": "code",
   "execution_count": 97,
   "metadata": {
    "collapsed": false
   },
   "outputs": [],
   "source": [
    "# Infrastructure by Community District\n",
    "df_infr = pd.read_csv(\"http://cosmo.nyu.edu/~fb55/PUI2016/data/ACS_Computer_Use_and_Internet_2014_1Year_Estimate.csv\")"
   ]
  },
  {
   "cell_type": "code",
   "execution_count": 20,
   "metadata": {
    "collapsed": false
   },
   "outputs": [
    {
     "data": {
      "text/plain": [
       "Index(['FIPS', 'Geographic Identifier', 'Qualifying Name', 'Households',\n",
       "       'Households: With An Internet Subscription',\n",
       "       'Households: Dial-Up Alone', 'Households: Dsl',\n",
       "       'Households: With Mobile Broadband',\n",
       "       'Households: Without Mobile Broadband', 'Households: Cable Modem',\n",
       "       'Households: With Mobile Broadband.1',\n",
       "       'Households: Without Mobile Broadband.1', 'Households: Fiber-Optic',\n",
       "       'Households: With Mobile Broadband.2',\n",
       "       'Households: Without Mobile Broadband.2',\n",
       "       'Households: Satellite Internet Service',\n",
       "       'Households: With Mobile Broadband.3',\n",
       "       'Households: Without Mobile Broadband.3',\n",
       "       'Households: Two or More Fixed Broadband Types, or Other',\n",
       "       'Households: With Mobile Broadband.4',\n",
       "       'Households: Without Mobile Broadband.4',\n",
       "       'Households: Mobile Broadband Alone or With Dialup',\n",
       "       'Households: Internet Access Without A Subscription',\n",
       "       'Households: No Internet Access',\n",
       "       '% Households: With An Internet Subscription', 'Households.1',\n",
       "       'Households: Has A Computer',\n",
       "       'Households: With Dial-Up Internet Subscription Alone',\n",
       "       'Households: With A Broadband Internet Subscription',\n",
       "       'Households: Without An Internet Subscription',\n",
       "       'Households: No Computer'],\n",
       "      dtype='object')"
      ]
     },
     "execution_count": 20,
     "metadata": {},
     "output_type": "execute_result"
    }
   ],
   "source": [
    "# Check variables in file\n",
    "df_infr.columns"
   ]
  },
  {
   "cell_type": "code",
   "execution_count": 21,
   "metadata": {
    "collapsed": false
   },
   "outputs": [
    {
     "data": {
      "text/plain": [
       "count                                                    59\n",
       "unique                                                   55\n",
       "top       NYC-Bronx Community District 1 & 2--Hunts Poin...\n",
       "freq                                                      2\n",
       "Name: Qualifying Name, dtype: object"
      ]
     },
     "execution_count": 21,
     "metadata": {},
     "output_type": "execute_result"
    }
   ],
   "source": [
    "# How many community districts are in file? \n",
    "df_infr['Qualifying Name'].describe()"
   ]
  },
  {
   "cell_type": "markdown",
   "metadata": {},
   "source": [
    "There are 59 entries for community districts, but a few of them are like 'NYC-Bronx Community District 3 & 6', are aggregated and listed twice for some reason."
   ]
  },
  {
   "cell_type": "code",
   "execution_count": 22,
   "metadata": {
    "collapsed": false
   },
   "outputs": [
    {
     "data": {
      "text/plain": [
       "0    15359\n",
       "1    10486\n",
       "2    11425\n",
       "3    10748\n",
       "4    14907\n",
       "Name: All mobile, dtype: int64"
      ]
     },
     "execution_count": 22,
     "metadata": {},
     "output_type": "execute_result"
    }
   ],
   "source": [
    "# Manipulate data to get some information on internet/broadband useage by Community District\n",
    "# Aggregate the mobile subscription data\n",
    "df_infr['All mobile'] = df_infr['Households: With Mobile Broadband'] + \\\n",
    "                        df_infr['Households: With Mobile Broadband.1'] + \\\n",
    "                        df_infr['Households: With Mobile Broadband.2'] + \\\n",
    "                        df_infr['Households: With Mobile Broadband.3'] + \\\n",
    "                        df_infr['Households: With Mobile Broadband.4']\n",
    "df_infr['All mobile'].head()"
   ]
  },
  {
   "cell_type": "code",
   "execution_count": 23,
   "metadata": {
    "collapsed": false
   },
   "outputs": [],
   "source": [
    "# Aggregate internet type by high and low connections\n",
    "df_infr['High Internet Connection'] = df_infr['Households: Fiber-Optic'] + \\\n",
    "                                    df_infr['Households: Cable Modem'] + \\\n",
    "                                    df_infr['All mobile']\n",
    "                                    \n",
    "        \n",
    "df_infr['Low Internet Connection'] = df_infr['Households: Dial-Up Alone'] + \\\n",
    "                                    df_infr['Households: Dsl'] + \\\n",
    "                                    df_infr['Households: Two or More Fixed Broadband Types, or Other'] + \\\n",
    "                                    df_infr['Households: Satellite Internet Service'] + \\\n",
    "                                    df_infr['Households: Internet Access Without A Subscription']"
   ]
  },
  {
   "cell_type": "code",
   "execution_count": 24,
   "metadata": {
    "collapsed": false
   },
   "outputs": [
    {
     "data": {
      "text/html": [
       "<div>\n",
       "<table border=\"1\" class=\"dataframe\">\n",
       "  <thead>\n",
       "    <tr style=\"text-align: right;\">\n",
       "      <th></th>\n",
       "      <th>Qualifying Name</th>\n",
       "      <th>High Internet Connection</th>\n",
       "      <th>Low Internet Connection</th>\n",
       "    </tr>\n",
       "  </thead>\n",
       "  <tbody>\n",
       "    <tr>\n",
       "      <th>0</th>\n",
       "      <td>NYC-Bronx Community District 8--Riverdale, New...</td>\n",
       "      <td>35476</td>\n",
       "      <td>11629</td>\n",
       "    </tr>\n",
       "    <tr>\n",
       "      <th>1</th>\n",
       "      <td>NYC-Bronx Community District 12--Wakefield, Ne...</td>\n",
       "      <td>35355</td>\n",
       "      <td>8337</td>\n",
       "    </tr>\n",
       "    <tr>\n",
       "      <th>2</th>\n",
       "      <td>NYC-Bronx Community District 10--Co-op City, N...</td>\n",
       "      <td>34959</td>\n",
       "      <td>11438</td>\n",
       "    </tr>\n",
       "    <tr>\n",
       "      <th>3</th>\n",
       "      <td>NYC-Bronx Community District 11--Pelham Parkwa...</td>\n",
       "      <td>34100</td>\n",
       "      <td>10372</td>\n",
       "    </tr>\n",
       "    <tr>\n",
       "      <th>4</th>\n",
       "      <td>NYC-Bronx Community District 3 &amp; 6--Belmont, N...</td>\n",
       "      <td>32264</td>\n",
       "      <td>20073</td>\n",
       "    </tr>\n",
       "  </tbody>\n",
       "</table>\n",
       "</div>"
      ],
      "text/plain": [
       "                                     Qualifying Name  \\\n",
       "0  NYC-Bronx Community District 8--Riverdale, New...   \n",
       "1  NYC-Bronx Community District 12--Wakefield, Ne...   \n",
       "2  NYC-Bronx Community District 10--Co-op City, N...   \n",
       "3  NYC-Bronx Community District 11--Pelham Parkwa...   \n",
       "4  NYC-Bronx Community District 3 & 6--Belmont, N...   \n",
       "\n",
       "   High Internet Connection  Low Internet Connection  \n",
       "0                     35476                    11629  \n",
       "1                     35355                     8337  \n",
       "2                     34959                    11438  \n",
       "3                     34100                    10372  \n",
       "4                     32264                    20073  "
      ]
     },
     "execution_count": 24,
     "metadata": {},
     "output_type": "execute_result"
    }
   ],
   "source": [
    "# Save data frame \n",
    "df_infr = df_infr[['Qualifying Name', 'High Internet Connection', 'Low Internet Connection']]\n",
    "df_infr.head()"
   ]
  },
  {
   "cell_type": "markdown",
   "metadata": {},
   "source": [
    "# 5. Inform your results by linking datasets\n",
    "Now you want to link the three data frames to produce summary statistics for Community Districts which show a high number of complaints vs. Community Districts which show a lower number of complaints. Please keep in mind that the identifiers used for the linkage (Community Dostrict IDs) should be recored the same way. Use regular expressions to harmonize the identifiers if possible. The identifiers should look like BK01, BK02, etc.\n",
    "https://docs.python.org/2/library/re.html"
   ]
  },
  {
   "cell_type": "markdown",
   "metadata": {},
   "source": [
    "#### Harmonize identifier of dataframe 1"
   ]
  },
  {
   "cell_type": "code",
   "execution_count": 81,
   "metadata": {
    "collapsed": false
   },
   "outputs": [
    {
     "data": {
      "text/html": [
       "<div>\n",
       "<table border=\"1\" class=\"dataframe\">\n",
       "  <thead>\n",
       "    <tr style=\"text-align: right;\">\n",
       "      <th></th>\n",
       "      <th>Complaint Ranking</th>\n",
       "      <th>Community Board</th>\n",
       "      <th>Number of Complaints</th>\n",
       "    </tr>\n",
       "  </thead>\n",
       "  <tbody>\n",
       "    <tr>\n",
       "      <th>0</th>\n",
       "      <td>1</td>\n",
       "      <td>MN12</td>\n",
       "      <td>70</td>\n",
       "    </tr>\n",
       "    <tr>\n",
       "      <th>1</th>\n",
       "      <td>2</td>\n",
       "      <td>MN03</td>\n",
       "      <td>48</td>\n",
       "    </tr>\n",
       "    <tr>\n",
       "      <th>2</th>\n",
       "      <td>3</td>\n",
       "      <td>QN05</td>\n",
       "      <td>36</td>\n",
       "    </tr>\n",
       "    <tr>\n",
       "      <th>3</th>\n",
       "      <td>4</td>\n",
       "      <td>BK04</td>\n",
       "      <td>34</td>\n",
       "    </tr>\n",
       "    <tr>\n",
       "      <th>4</th>\n",
       "      <td>5</td>\n",
       "      <td>BK01</td>\n",
       "      <td>32</td>\n",
       "    </tr>\n",
       "  </tbody>\n",
       "</table>\n",
       "</div>"
      ],
      "text/plain": [
       "   Complaint Ranking Community Board  Number of Complaints\n",
       "0                  1            MN12                    70\n",
       "1                  2            MN03                    48\n",
       "2                  3            QN05                    36\n",
       "3                  4            BK04                    34\n",
       "4                  5            BK01                    32"
      ]
     },
     "execution_count": 81,
     "metadata": {},
     "output_type": "execute_result"
    }
   ],
   "source": [
    "df_311['Community Board'] = df_311['Community Board'].replace(to_replace=' BRONX', value='BX', regex = True)\n",
    "df_311['Community Board'] = df_311['Community Board'].replace(to_replace=' MANHATTAN', value='MN', regex = True)\n",
    "df_311['Community Board'] = df_311['Community Board'].replace(to_replace=' STATEN ISLAND', value='SI', regex = True)\n",
    "df_311['Community Board'] = df_311['Community Board'].replace(to_replace=' BROOKLYN', value='BK', regex = True)\n",
    "df_311['Community Board'] = df_311['Community Board'].replace(to_replace=' QUEENS', value='QN', regex = True)\n",
    "df_311['Community Board'] = df_311['Community Board'].str[2:4] + df_311['Community Board'].str[:2]\n",
    "df_311.head()"
   ]
  },
  {
   "cell_type": "markdown",
   "metadata": {},
   "source": [
    "#### Harmonize identifier of dataframe 2"
   ]
  },
  {
   "cell_type": "code",
   "execution_count": 26,
   "metadata": {
    "collapsed": false
   },
   "outputs": [
    {
     "data": {
      "text/html": [
       "<div>\n",
       "<table border=\"1\" class=\"dataframe\">\n",
       "  <thead>\n",
       "    <tr style=\"text-align: right;\">\n",
       "      <th></th>\n",
       "      <th>Community Board</th>\n",
       "      <th>Total Population</th>\n",
       "      <th>Population Density (per sq. mile)</th>\n",
       "      <th>% Population 5 Years And Over: Speak Only English</th>\n",
       "      <th>% Population 5 Years And Over: Spanish or Spanish Creole</th>\n",
       "      <th>% Population 5 Years And Over: Spanish or Spanish Creole: Speak English Less Than \"very Well\"</th>\n",
       "      <th>Population 25 Years and over: Master's degree or more</th>\n",
       "      <th>Median household income (In 2014 Inflation Adjusted Dollars)</th>\n",
       "      <th>Per capita income (In 2014 Inflation Adjusted Dollars)</th>\n",
       "    </tr>\n",
       "  </thead>\n",
       "  <tbody>\n",
       "    <tr>\n",
       "      <th>17</th>\n",
       "      <td>MN07</td>\n",
       "      <td>192374</td>\n",
       "      <td>65024.96109</td>\n",
       "      <td>73.38</td>\n",
       "      <td>6.42</td>\n",
       "      <td>1.06</td>\n",
       "      <td>70490</td>\n",
       "      <td>106181</td>\n",
       "      <td>94856</td>\n",
       "    </tr>\n",
       "    <tr>\n",
       "      <th>19</th>\n",
       "      <td>MN04</td>\n",
       "      <td>149447</td>\n",
       "      <td>48626.99095</td>\n",
       "      <td>73.93</td>\n",
       "      <td>5.37</td>\n",
       "      <td>1.11</td>\n",
       "      <td>40322</td>\n",
       "      <td>98561</td>\n",
       "      <td>87756</td>\n",
       "    </tr>\n",
       "    <tr>\n",
       "      <th>20</th>\n",
       "      <td>MN06</td>\n",
       "      <td>143349</td>\n",
       "      <td>87333.79104</td>\n",
       "      <td>78.30</td>\n",
       "      <td>4.53</td>\n",
       "      <td>1.13</td>\n",
       "      <td>45406</td>\n",
       "      <td>105625</td>\n",
       "      <td>90557</td>\n",
       "    </tr>\n",
       "    <tr>\n",
       "      <th>14</th>\n",
       "      <td>MN10</td>\n",
       "      <td>132027</td>\n",
       "      <td>91244.88989</td>\n",
       "      <td>74.19</td>\n",
       "      <td>6.94</td>\n",
       "      <td>1.88</td>\n",
       "      <td>15679</td>\n",
       "      <td>40564</td>\n",
       "      <td>32585</td>\n",
       "    </tr>\n",
       "    <tr>\n",
       "      <th>32</th>\n",
       "      <td>BK08</td>\n",
       "      <td>126747</td>\n",
       "      <td>57010.54356</td>\n",
       "      <td>80.23</td>\n",
       "      <td>5.63</td>\n",
       "      <td>2.03</td>\n",
       "      <td>12476</td>\n",
       "      <td>44904</td>\n",
       "      <td>25917</td>\n",
       "    </tr>\n",
       "  </tbody>\n",
       "</table>\n",
       "</div>"
      ],
      "text/plain": [
       "   Community Board  Total Population  Population Density (per sq. mile)  \\\n",
       "17            MN07            192374                        65024.96109   \n",
       "19            MN04            149447                        48626.99095   \n",
       "20            MN06            143349                        87333.79104   \n",
       "14            MN10            132027                        91244.88989   \n",
       "32            BK08            126747                        57010.54356   \n",
       "\n",
       "    % Population 5 Years And Over: Speak Only English  \\\n",
       "17                                              73.38   \n",
       "19                                              73.93   \n",
       "20                                              78.30   \n",
       "14                                              74.19   \n",
       "32                                              80.23   \n",
       "\n",
       "    % Population 5 Years And Over: Spanish or Spanish Creole  \\\n",
       "17                                               6.42          \n",
       "19                                               5.37          \n",
       "20                                               4.53          \n",
       "14                                               6.94          \n",
       "32                                               5.63          \n",
       "\n",
       "    % Population 5 Years And Over: Spanish or Spanish Creole: Speak English Less Than \"very Well\"  \\\n",
       "17                                               1.06                                               \n",
       "19                                               1.11                                               \n",
       "20                                               1.13                                               \n",
       "14                                               1.88                                               \n",
       "32                                               2.03                                               \n",
       "\n",
       "    Population 25 Years and over: Master's degree or more  \\\n",
       "17                                              70490       \n",
       "19                                              40322       \n",
       "20                                              45406       \n",
       "14                                              15679       \n",
       "32                                              12476       \n",
       "\n",
       "    Median household income (In 2014 Inflation Adjusted Dollars)  \\\n",
       "17                                             106181              \n",
       "19                                              98561              \n",
       "20                                             105625              \n",
       "14                                              40564              \n",
       "32                                              44904              \n",
       "\n",
       "    Per capita income (In 2014 Inflation Adjusted Dollars)  \n",
       "17                                              94856       \n",
       "19                                              87756       \n",
       "20                                              90557       \n",
       "14                                              32585       \n",
       "32                                              25917       "
      ]
     },
     "execution_count": 26,
     "metadata": {},
     "output_type": "execute_result"
    }
   ],
   "source": [
    "df_pop = df_pop.rename(index=str, columns={\"cd_id\": \"Community Board\"})\n",
    "df_pop['Community Board'] = df_pop['Community Board'].str[:4]\n",
    "df_pop.head()"
   ]
  },
  {
   "cell_type": "markdown",
   "metadata": {},
   "source": [
    "#### Harmonize identifier of dataframe 3"
   ]
  },
  {
   "cell_type": "code",
   "execution_count": 27,
   "metadata": {
    "collapsed": false
   },
   "outputs": [
    {
     "name": "stderr",
     "output_type": "stream",
     "text": [
      "/opt/rh/anaconda/root/envs/PUI2016_Python3/lib/python3.5/site-packages/ipykernel/__main__.py:11: SettingWithCopyWarning: \n",
      "A value is trying to be set on a copy of a slice from a DataFrame\n",
      "\n",
      "See the caveats in the documentation: http://pandas.pydata.org/pandas-docs/stable/indexing.html#indexing-view-versus-copy\n",
      "/opt/rh/anaconda/root/envs/PUI2016_Python3/lib/python3.5/site-packages/ipykernel/__main__.py:12: SettingWithCopyWarning: \n",
      "A value is trying to be set on a copy of a slice from a DataFrame\n",
      "\n",
      "See the caveats in the documentation: http://pandas.pydata.org/pandas-docs/stable/indexing.html#indexing-view-versus-copy\n",
      "/opt/rh/anaconda/root/envs/PUI2016_Python3/lib/python3.5/site-packages/ipykernel/__main__.py:13: SettingWithCopyWarning: \n",
      "A value is trying to be set on a copy of a slice from a DataFrame\n",
      "\n",
      "See the caveats in the documentation: http://pandas.pydata.org/pandas-docs/stable/indexing.html#indexing-view-versus-copy\n",
      "/opt/rh/anaconda/root/envs/PUI2016_Python3/lib/python3.5/site-packages/ipykernel/__main__.py:14: SettingWithCopyWarning: \n",
      "A value is trying to be set on a copy of a slice from a DataFrame\n",
      "\n",
      "See the caveats in the documentation: http://pandas.pydata.org/pandas-docs/stable/indexing.html#indexing-view-versus-copy\n",
      "/opt/rh/anaconda/root/envs/PUI2016_Python3/lib/python3.5/site-packages/ipykernel/__main__.py:15: SettingWithCopyWarning: \n",
      "A value is trying to be set on a copy of a slice from a DataFrame\n",
      "\n",
      "See the caveats in the documentation: http://pandas.pydata.org/pandas-docs/stable/indexing.html#indexing-view-versus-copy\n",
      "/opt/rh/anaconda/root/envs/PUI2016_Python3/lib/python3.5/site-packages/ipykernel/__main__.py:16: SettingWithCopyWarning: \n",
      "A value is trying to be set on a copy of a slice from a DataFrame\n",
      "\n",
      "See the caveats in the documentation: http://pandas.pydata.org/pandas-docs/stable/indexing.html#indexing-view-versus-copy\n",
      "/opt/rh/anaconda/root/envs/PUI2016_Python3/lib/python3.5/site-packages/ipykernel/__main__.py:17: SettingWithCopyWarning: \n",
      "A value is trying to be set on a copy of a slice from a DataFrame\n",
      "\n",
      "See the caveats in the documentation: http://pandas.pydata.org/pandas-docs/stable/indexing.html#indexing-view-versus-copy\n",
      "/opt/rh/anaconda/root/envs/PUI2016_Python3/lib/python3.5/site-packages/ipykernel/__main__.py:18: SettingWithCopyWarning: \n",
      "A value is trying to be set on a copy of a slice from a DataFrame\n",
      "\n",
      "See the caveats in the documentation: http://pandas.pydata.org/pandas-docs/stable/indexing.html#indexing-view-versus-copy\n",
      "/opt/rh/anaconda/root/envs/PUI2016_Python3/lib/python3.5/site-packages/ipykernel/__main__.py:21: SettingWithCopyWarning: \n",
      "A value is trying to be set on a copy of a slice from a DataFrame\n",
      "\n",
      "See the caveats in the documentation: http://pandas.pydata.org/pandas-docs/stable/indexing.html#indexing-view-versus-copy\n"
     ]
    },
    {
     "data": {
      "text/html": [
       "<div>\n",
       "<table border=\"1\" class=\"dataframe\">\n",
       "  <thead>\n",
       "    <tr style=\"text-align: right;\">\n",
       "      <th></th>\n",
       "      <th>Community Board</th>\n",
       "      <th>High Internet Connection</th>\n",
       "      <th>Low Internet Connection</th>\n",
       "    </tr>\n",
       "  </thead>\n",
       "  <tbody>\n",
       "    <tr>\n",
       "      <th>0</th>\n",
       "      <td>BX08</td>\n",
       "      <td>35476</td>\n",
       "      <td>11629</td>\n",
       "    </tr>\n",
       "    <tr>\n",
       "      <th>1</th>\n",
       "      <td>BX12</td>\n",
       "      <td>35355</td>\n",
       "      <td>8337</td>\n",
       "    </tr>\n",
       "    <tr>\n",
       "      <th>2</th>\n",
       "      <td>BX10</td>\n",
       "      <td>34959</td>\n",
       "      <td>11438</td>\n",
       "    </tr>\n",
       "    <tr>\n",
       "      <th>3</th>\n",
       "      <td>BX11</td>\n",
       "      <td>34100</td>\n",
       "      <td>10372</td>\n",
       "    </tr>\n",
       "    <tr>\n",
       "      <th>4</th>\n",
       "      <td>BX03</td>\n",
       "      <td>32264</td>\n",
       "      <td>20073</td>\n",
       "    </tr>\n",
       "  </tbody>\n",
       "</table>\n",
       "</div>"
      ],
      "text/plain": [
       "  Community Board  High Internet Connection  Low Internet Connection\n",
       "0            BX08                     35476                    11629\n",
       "1            BX12                     35355                     8337\n",
       "2            BX10                     34959                    11438\n",
       "3            BX11                     34100                    10372\n",
       "4            BX03                     32264                    20073"
      ]
     },
     "execution_count": 27,
     "metadata": {},
     "output_type": "execute_result"
    }
   ],
   "source": [
    "#Remove left excess info on left side of Name\n",
    "df_infr['Qualifying Name'] = df_infr['Qualifying Name'].replace(to_replace=' BRONX', value='BX', regex = True)\n",
    "df_infr['Qualifying Name'] = df_infr['Qualifying Name'].replace(to_replace=' MANHATTAN', value='MN', regex = True)\n",
    "df_infr['Qualifying Name'] = df_infr['Qualifying Name'].replace(to_replace=' STATEN ISLAND', value='SI', regex = True)\n",
    "df_infr['Qualifying Name'] = df_infr['Qualifying Name'].replace(to_replace=' BROOKLYN', value='BK', regex = True)\n",
    "df_infr['Qualifying Name'] = df_infr['Qualifying Name'].replace(to_replace=' QUEENS', value='QN', regex = True)\n",
    "\n",
    "#Resolve aggregation of districts\n",
    "df_infr['Qualifying Name'][4] = 'BX03'\n",
    "df_infr['Qualifying Name'][5] = 'BX06'\n",
    "df_infr['Qualifying Name'][10] = 'BX01'\n",
    "df_infr['Qualifying Name'][11] = 'BX02'\n",
    "df_infr['Qualifying Name'][18] = 'MN04'\n",
    "df_infr['Qualifying Name'][19] = 'MN05'\n",
    "df_infr['Qualifying Name'][22] = 'MN01'\n",
    "df_infr['Qualifying Name'][23] = 'MN02'\n",
    "\n",
    "#Change BX9 to BX09, etc.\n",
    "df_infr['Qualifying Name'][df_infr['Qualifying Name'].str[3:4] == '-'] = df_infr['Qualifying Name'][df_infr['Qualifying Name'].str[3:4] == '-'].str[0:2] + \\\n",
    "                                                                        '0' + df_infr['Qualifying Name'][df_infr['Qualifying Name'].str[3:4] == '-'].str[2:3]\n",
    "df_infr['Qualifying Name'] = df_infr['Qualifying Name'].str[:4]\n",
    "    \n",
    "df_infr = df_infr.rename(index=str, columns={\"Qualifying Name\": \"Community Board\"})    \n",
    "    \n",
    "df_infr.head()"
   ]
  },
  {
   "cell_type": "markdown",
   "metadata": {},
   "source": [
    "#### Link the 3 dataframes"
   ]
  },
  {
   "cell_type": "code",
   "execution_count": 84,
   "metadata": {
    "collapsed": false
   },
   "outputs": [
    {
     "data": {
      "text/html": [
       "<div>\n",
       "<table border=\"1\" class=\"dataframe\">\n",
       "  <thead>\n",
       "    <tr style=\"text-align: right;\">\n",
       "      <th></th>\n",
       "      <th>Complaint Ranking</th>\n",
       "      <th>Community Board</th>\n",
       "      <th>Number of Complaints</th>\n",
       "      <th>Total Population</th>\n",
       "      <th>Population Density (per sq. mile)</th>\n",
       "      <th>% Population 5 Years And Over: Speak Only English</th>\n",
       "      <th>% Population 5 Years And Over: Spanish or Spanish Creole</th>\n",
       "      <th>% Population 5 Years And Over: Spanish or Spanish Creole: Speak English Less Than \"very Well\"</th>\n",
       "      <th>Population 25 Years and over: Master's degree or more</th>\n",
       "      <th>Median household income (In 2014 Inflation Adjusted Dollars)</th>\n",
       "      <th>Per capita income (In 2014 Inflation Adjusted Dollars)</th>\n",
       "      <th>High Internet Connection</th>\n",
       "      <th>Low Internet Connection</th>\n",
       "    </tr>\n",
       "  </thead>\n",
       "  <tbody>\n",
       "    <tr>\n",
       "      <th>0</th>\n",
       "      <td>1</td>\n",
       "      <td>MN12</td>\n",
       "      <td>70</td>\n",
       "      <td>224365</td>\n",
       "      <td>75217.43287</td>\n",
       "      <td>68.39</td>\n",
       "      <td>18.39</td>\n",
       "      <td>7.16</td>\n",
       "      <td>19577</td>\n",
       "      <td>45157</td>\n",
       "      <td>21969</td>\n",
       "      <td>62869</td>\n",
       "      <td>13654</td>\n",
       "    </tr>\n",
       "    <tr>\n",
       "      <th>1</th>\n",
       "      <td>2</td>\n",
       "      <td>MN03</td>\n",
       "      <td>48</td>\n",
       "      <td>152453</td>\n",
       "      <td>87256.67015</td>\n",
       "      <td>63.29</td>\n",
       "      <td>6.74</td>\n",
       "      <td>2.31</td>\n",
       "      <td>20357</td>\n",
       "      <td>41366</td>\n",
       "      <td>39101</td>\n",
       "      <td>52967</td>\n",
       "      <td>14799</td>\n",
       "    </tr>\n",
       "    <tr>\n",
       "      <th>2</th>\n",
       "      <td>3</td>\n",
       "      <td>QN05</td>\n",
       "      <td>36</td>\n",
       "      <td>168488</td>\n",
       "      <td>23005.32298</td>\n",
       "      <td>68.93</td>\n",
       "      <td>18.09</td>\n",
       "      <td>9.12</td>\n",
       "      <td>9969</td>\n",
       "      <td>63660</td>\n",
       "      <td>28288</td>\n",
       "      <td>49936</td>\n",
       "      <td>7549</td>\n",
       "    </tr>\n",
       "    <tr>\n",
       "      <th>3</th>\n",
       "      <td>4</td>\n",
       "      <td>BK04</td>\n",
       "      <td>34</td>\n",
       "      <td>137368</td>\n",
       "      <td>54279.76123</td>\n",
       "      <td>78.17</td>\n",
       "      <td>9.87</td>\n",
       "      <td>3.57</td>\n",
       "      <td>5126</td>\n",
       "      <td>40484</td>\n",
       "      <td>20052</td>\n",
       "      <td>32431</td>\n",
       "      <td>6456</td>\n",
       "    </tr>\n",
       "    <tr>\n",
       "      <th>4</th>\n",
       "      <td>5</td>\n",
       "      <td>BK01</td>\n",
       "      <td>32</td>\n",
       "      <td>154713</td>\n",
       "      <td>37671.51058</td>\n",
       "      <td>72.48</td>\n",
       "      <td>15.53</td>\n",
       "      <td>5.71</td>\n",
       "      <td>17028</td>\n",
       "      <td>57818</td>\n",
       "      <td>34897</td>\n",
       "      <td>56123</td>\n",
       "      <td>10914</td>\n",
       "    </tr>\n",
       "  </tbody>\n",
       "</table>\n",
       "</div>"
      ],
      "text/plain": [
       "   Complaint Ranking Community Board  Number of Complaints  Total Population  \\\n",
       "0                  1            MN12                    70            224365   \n",
       "1                  2            MN03                    48            152453   \n",
       "2                  3            QN05                    36            168488   \n",
       "3                  4            BK04                    34            137368   \n",
       "4                  5            BK01                    32            154713   \n",
       "\n",
       "   Population Density (per sq. mile)  \\\n",
       "0                        75217.43287   \n",
       "1                        87256.67015   \n",
       "2                        23005.32298   \n",
       "3                        54279.76123   \n",
       "4                        37671.51058   \n",
       "\n",
       "   % Population 5 Years And Over: Speak Only English  \\\n",
       "0                                              68.39   \n",
       "1                                              63.29   \n",
       "2                                              68.93   \n",
       "3                                              78.17   \n",
       "4                                              72.48   \n",
       "\n",
       "   % Population 5 Years And Over: Spanish or Spanish Creole  \\\n",
       "0                                              18.39          \n",
       "1                                               6.74          \n",
       "2                                              18.09          \n",
       "3                                               9.87          \n",
       "4                                              15.53          \n",
       "\n",
       "   % Population 5 Years And Over: Spanish or Spanish Creole: Speak English Less Than \"very Well\"  \\\n",
       "0                                               7.16                                               \n",
       "1                                               2.31                                               \n",
       "2                                               9.12                                               \n",
       "3                                               3.57                                               \n",
       "4                                               5.71                                               \n",
       "\n",
       "   Population 25 Years and over: Master's degree or more  \\\n",
       "0                                              19577       \n",
       "1                                              20357       \n",
       "2                                               9969       \n",
       "3                                               5126       \n",
       "4                                              17028       \n",
       "\n",
       "   Median household income (In 2014 Inflation Adjusted Dollars)  \\\n",
       "0                                              45157              \n",
       "1                                              41366              \n",
       "2                                              63660              \n",
       "3                                              40484              \n",
       "4                                              57818              \n",
       "\n",
       "   Per capita income (In 2014 Inflation Adjusted Dollars)  \\\n",
       "0                                              21969        \n",
       "1                                              39101        \n",
       "2                                              28288        \n",
       "3                                              20052        \n",
       "4                                              34897        \n",
       "\n",
       "   High Internet Connection  Low Internet Connection  \n",
       "0                     62869                    13654  \n",
       "1                     52967                    14799  \n",
       "2                     49936                     7549  \n",
       "3                     32431                     6456  \n",
       "4                     56123                    10914  "
      ]
     },
     "execution_count": 84,
     "metadata": {},
     "output_type": "execute_result"
    }
   ],
   "source": [
    "df_merged = df_311.merge(df_pop, on='Community Board').merge(df_infr, on='Community Board')\n",
    "df_merged.head()"
   ]
  },
  {
   "cell_type": "markdown",
   "metadata": {},
   "source": [
    "#### Are the demographics and infrastructure different in Community Districts that show more complaints than others?\n"
   ]
  },
  {
   "cell_type": "code",
   "execution_count": 93,
   "metadata": {
    "collapsed": false
   },
   "outputs": [
    {
     "data": {
      "text/plain": [
       "<matplotlib.axes._subplots.AxesSubplot at 0x7f89c6d0cd68>"
      ]
     },
     "execution_count": 93,
     "metadata": {},
     "output_type": "execute_result"
    },
    {
     "data": {
      "image/png": "[encoded data removed]",
      "text/plain": [
       "<matplotlib.figure.Figure at 0x7f89c6d437b8>"
      ]
     },
     "metadata": {},
     "output_type": "display_data"
    }
   ],
   "source": [
    "df_merged.plot('Complaint Ranking', '% Population 5 Years And Over: Speak Only English', kind = 'scatter')"
   ]
  },
  {
   "cell_type": "markdown",
   "metadata": {},
   "source": [
    "#### Figure 1: A scatter plot of a NYC district's ranking in number of 311 complaints and the percentage of individuals who speak only English in the district. There does not appear to be a strong correlation between the two."
   ]
  },
  {
   "cell_type": "code",
   "execution_count": 96,
   "metadata": {
    "collapsed": false
   },
   "outputs": [
    {
     "data": {
      "text/plain": [
       "<matplotlib.axes._subplots.AxesSubplot at 0x7f89c6990d68>"
      ]
     },
     "execution_count": 96,
     "metadata": {},
     "output_type": "execute_result"
    },
    {
     "data": {
      "image/png": "[encoded data removed]",
      "text/plain": [
       "<matplotlib.figure.Figure at 0x7f89c699c278>"
      ]
     },
     "metadata": {},
     "output_type": "display_data"
    }
   ],
   "source": [
    "df_merged.plot('Complaint Ranking', 'High Internet Connection', kind = 'scatter')"
   ]
  },
  {
   "cell_type": "markdown",
   "metadata": {},
   "source": [
    "#### Figure 4: A scatter plot of a NYC district's ranking in number of 311 complaints and the number of household with high speed internet connection in the district. There appears to be a slight negative correlation between the two, possibly indicating that households with limited internet access are less likely to file 311 complaints."
   ]
  }
 ],
 "metadata": {
  "celltoolbar": "Raw Cell Format",
  "kernelspec": {
   "display_name": "PUI2016_Python3",
   "language": "python",
   "name": "pui2016_python3"
  },
  "language_info": {
   "codemirror_mode": {
    "name": "ipython",
    "version": 3
   },
   "file_extension": ".py",
   "mimetype": "text/x-python",
   "name": "python",
   "nbconvert_exporter": "python",
   "pygments_lexer": "ipython3",
   "version": "3.5.2"
  }
 },
 "nbformat": 4,
 "nbformat_minor": 0
}
