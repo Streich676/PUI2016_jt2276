{
 "cells": [
  {
   "cell_type": "code",
   "execution_count": 9,
   "metadata": {
    "collapsed": false,
    "scrolled": true
   },
   "outputs": [
    {
     "name": "stderr",
     "output_type": "stream",
     "text": [
      "/opt/rh/anaconda/root/lib/python2.7/site-packages/matplotlib/font_manager.py:273: UserWarning: Matplotlib is building the font cache using fc-list. This may take a moment.\n",
      "  warnings.warn('Matplotlib is building the font cache using fc-list. This may take a moment.')\n"
     ]
    }
   ],
   "source": [
    "##############################################################################\n",
    "# Adapted from PandasDataWrangling-Chap7.ipynb and readingData.ipynb found at\n",
    "# https://github.com/fedhere/UInotebooks/blob/master/dataWrangling/\n",
    "##############################################################################\n",
    "\n",
    "from __future__ import division, print_function\n",
    "import os\n",
    "import numpy as np\n",
    "from numpy.random import randn\n",
    "import pylab as pl\n",
    "\n",
    "from pandas import Series, DataFrame\n",
    "import pandas\n",
    "import pandas as pd"
   ]
  },
  {
   "cell_type": "code",
   "execution_count": 31,
   "metadata": {
    "collapsed": false
   },
   "outputs": [
    {
     "name": "stdout",
     "output_type": "stream",
     "text": [
      "/gws/open/NYCOpenData/nycopendata/data/\n"
     ]
    }
   ],
   "source": [
    "PUIdata = os.getenv('PUIDATA')\n",
    "print (PUIdata)"
   ]
  },
  {
   "cell_type": "code",
   "execution_count": 12,
   "metadata": {
    "collapsed": false
   },
   "outputs": [
    {
     "name": "stdout",
     "output_type": "stream",
     "text": [
      "Populating the interactive namespace from numpy and matplotlib\n"
     ]
    }
   ],
   "source": [
    "%pylab inline\n",
    "\n",
    "np.set_printoptions(precision=4, threshold=500)\n",
    "np.random.seed(123321)\n",
    "pl.rc('figure', figsize=(10, 6))\n",
    "pd.options.display.max_rows = 100"
   ]
  },
  {
   "cell_type": "code",
   "execution_count": 15,
   "metadata": {
    "collapsed": true
   },
   "outputs": [],
   "source": [
    "df_energy = pd.read_csv(PUIdata + \"uedp-fegm/1414245967/uedp-fegm\")"
   ]
  },
  {
   "cell_type": "code",
   "execution_count": 22,
   "metadata": {
    "collapsed": false
   },
   "outputs": [
    {
     "data": {
      "text/html": [
       "<div style=\"max-height:1000px;max-width:1500px;overflow:auto;\">\n",
       "<table border=\"1\" class=\"dataframe\">\n",
       "  <thead>\n",
       "    <tr style=\"text-align: right;\">\n",
       "      <th></th>\n",
       "      <th>Zip Code</th>\n",
       "      <th>Building type (service class</th>\n",
       "      <th>Consumption (therms)</th>\n",
       "      <th>Consumption (GJ)</th>\n",
       "      <th>Utility/Data Source</th>\n",
       "    </tr>\n",
       "  </thead>\n",
       "  <tbody>\n",
       "    <tr>\n",
       "      <th>0</th>\n",
       "      <td>10001\\n(40.75025902143676, -73.99688630375988)</td>\n",
       "      <td>Residential</td>\n",
       "      <td>58338</td>\n",
       "      <td>6155</td>\n",
       "      <td>ConEd</td>\n",
       "    </tr>\n",
       "    <tr>\n",
       "      <th>1</th>\n",
       "      <td>10002\\n(40.71612146793143, -73.98583147024613)</td>\n",
       "      <td>Residential</td>\n",
       "      <td>550055</td>\n",
       "      <td>58034</td>\n",
       "      <td>ConEd</td>\n",
       "    </tr>\n",
       "    <tr>\n",
       "      <th>2</th>\n",
       "      <td>10003\\n(40.73194394755518, -73.98887214913032)</td>\n",
       "      <td>Residential</td>\n",
       "      <td>260502</td>\n",
       "      <td>27484</td>\n",
       "      <td>ConEd</td>\n",
       "    </tr>\n",
       "    <tr>\n",
       "      <th>3</th>\n",
       "      <td>10005\\n(40.7061257920717, -74.00858468583453)</td>\n",
       "      <td>Residential</td>\n",
       "      <td>265</td>\n",
       "      <td>28</td>\n",
       "      <td>ConEd</td>\n",
       "    </tr>\n",
       "    <tr>\n",
       "      <th>4</th>\n",
       "      <td>10006\\n(40.70825614030866, -74.01355356964149)</td>\n",
       "      <td>Residential</td>\n",
       "      <td>2076</td>\n",
       "      <td>219</td>\n",
       "      <td>ConEd</td>\n",
       "    </tr>\n",
       "    <tr>\n",
       "      <th>5</th>\n",
       "      <td>10007\\n(40.71363051943297, -74.00913138370635)</td>\n",
       "      <td>Residential</td>\n",
       "      <td>12845</td>\n",
       "      <td>1355</td>\n",
       "      <td>ConEd</td>\n",
       "    </tr>\n",
       "    <tr>\n",
       "      <th>6</th>\n",
       "      <td>10009\\n(40.72664935898081, -73.97911148500697)</td>\n",
       "      <td>Residential</td>\n",
       "      <td>186224</td>\n",
       "      <td>19648</td>\n",
       "      <td>ConEd</td>\n",
       "    </tr>\n",
       "    <tr>\n",
       "      <th>7</th>\n",
       "      <td>10010\\n(40.73914078212147, -73.98289845639863)</td>\n",
       "      <td>Residential</td>\n",
       "      <td>61263</td>\n",
       "      <td>6464</td>\n",
       "      <td>ConEd</td>\n",
       "    </tr>\n",
       "    <tr>\n",
       "      <th>8</th>\n",
       "      <td>10011\\n(40.74471526669623, -74.00460000028977)</td>\n",
       "      <td>Residential</td>\n",
       "      <td>192654</td>\n",
       "      <td>20326</td>\n",
       "      <td>ConEd</td>\n",
       "    </tr>\n",
       "    <tr>\n",
       "      <th>9</th>\n",
       "      <td>10012\\n(40.72553802086304, -73.99789641059084)</td>\n",
       "      <td>Residential</td>\n",
       "      <td>178497</td>\n",
       "      <td>18832</td>\n",
       "      <td>ConEd</td>\n",
       "    </tr>\n",
       "  </tbody>\n",
       "</table>\n",
       "</div>"
      ],
      "text/plain": [
       "                                         Zip Code  \\\n",
       "0  10001\\n(40.75025902143676, -73.99688630375988)   \n",
       "1  10002\\n(40.71612146793143, -73.98583147024613)   \n",
       "2  10003\\n(40.73194394755518, -73.98887214913032)   \n",
       "3   10005\\n(40.7061257920717, -74.00858468583453)   \n",
       "4  10006\\n(40.70825614030866, -74.01355356964149)   \n",
       "5  10007\\n(40.71363051943297, -74.00913138370635)   \n",
       "6  10009\\n(40.72664935898081, -73.97911148500697)   \n",
       "7  10010\\n(40.73914078212147, -73.98289845639863)   \n",
       "8  10011\\n(40.74471526669623, -74.00460000028977)   \n",
       "9  10012\\n(40.72553802086304, -73.99789641059084)   \n",
       "\n",
       "  Building type (service class   Consumption (therms)    Consumption (GJ)   \\\n",
       "0                  Residential                   58338                6155   \n",
       "1                  Residential                  550055               58034   \n",
       "2                  Residential                  260502               27484   \n",
       "3                  Residential                     265                  28   \n",
       "4                  Residential                    2076                 219   \n",
       "5                  Residential                   12845                1355   \n",
       "6                  Residential                  186224               19648   \n",
       "7                  Residential                   61263                6464   \n",
       "8                  Residential                  192654               20326   \n",
       "9                  Residential                  178497               18832   \n",
       "\n",
       "  Utility/Data Source  \n",
       "0               ConEd  \n",
       "1               ConEd  \n",
       "2               ConEd  \n",
       "3               ConEd  \n",
       "4               ConEd  \n",
       "5               ConEd  \n",
       "6               ConEd  \n",
       "7               ConEd  \n",
       "8               ConEd  \n",
       "9               ConEd  "
      ]
     },
     "execution_count": 22,
     "metadata": {},
     "output_type": "execute_result"
    }
   ],
   "source": [
    "df_energy.head(n=10)"
   ]
  },
  {
   "cell_type": "code",
   "execution_count": 23,
   "metadata": {
    "collapsed": true
   },
   "outputs": [],
   "source": [
    "df_energy.drop(['Zip Code', 'Building type (service class', 'Utility/Data Source'], axis=1, inplace=True)"
   ]
  },
  {
   "cell_type": "code",
   "execution_count": 24,
   "metadata": {
    "collapsed": false
   },
   "outputs": [
    {
     "data": {
      "text/html": [
       "<div style=\"max-height:1000px;max-width:1500px;overflow:auto;\">\n",
       "<table border=\"1\" class=\"dataframe\">\n",
       "  <thead>\n",
       "    <tr style=\"text-align: right;\">\n",
       "      <th></th>\n",
       "      <th>Consumption (therms)</th>\n",
       "      <th>Consumption (GJ)</th>\n",
       "    </tr>\n",
       "  </thead>\n",
       "  <tbody>\n",
       "    <tr>\n",
       "      <th>0</th>\n",
       "      <td>58338</td>\n",
       "      <td>6155</td>\n",
       "    </tr>\n",
       "    <tr>\n",
       "      <th>1</th>\n",
       "      <td>550055</td>\n",
       "      <td>58034</td>\n",
       "    </tr>\n",
       "    <tr>\n",
       "      <th>2</th>\n",
       "      <td>260502</td>\n",
       "      <td>27484</td>\n",
       "    </tr>\n",
       "    <tr>\n",
       "      <th>3</th>\n",
       "      <td>265</td>\n",
       "      <td>28</td>\n",
       "    </tr>\n",
       "    <tr>\n",
       "      <th>4</th>\n",
       "      <td>2076</td>\n",
       "      <td>219</td>\n",
       "    </tr>\n",
       "    <tr>\n",
       "      <th>5</th>\n",
       "      <td>12845</td>\n",
       "      <td>1355</td>\n",
       "    </tr>\n",
       "    <tr>\n",
       "      <th>6</th>\n",
       "      <td>186224</td>\n",
       "      <td>19648</td>\n",
       "    </tr>\n",
       "    <tr>\n",
       "      <th>7</th>\n",
       "      <td>61263</td>\n",
       "      <td>6464</td>\n",
       "    </tr>\n",
       "    <tr>\n",
       "      <th>8</th>\n",
       "      <td>192654</td>\n",
       "      <td>20326</td>\n",
       "    </tr>\n",
       "    <tr>\n",
       "      <th>9</th>\n",
       "      <td>178497</td>\n",
       "      <td>18832</td>\n",
       "    </tr>\n",
       "  </tbody>\n",
       "</table>\n",
       "</div>"
      ],
      "text/plain": [
       "    Consumption (therms)    Consumption (GJ) \n",
       "0                   58338                6155\n",
       "1                  550055               58034\n",
       "2                  260502               27484\n",
       "3                     265                  28\n",
       "4                    2076                 219\n",
       "5                   12845                1355\n",
       "6                  186224               19648\n",
       "7                   61263                6464\n",
       "8                  192654               20326\n",
       "9                  178497               18832"
      ]
     },
     "execution_count": 24,
     "metadata": {},
     "output_type": "execute_result"
    }
   ],
   "source": [
    "df_energy.head(n=10)"
   ]
  },
  {
   "cell_type": "code",
   "execution_count": 30,
   "metadata": {
    "collapsed": false
   },
   "outputs": [
    {
     "data": {
      "text/plain": [
       "<matplotlib.text.Text at 0x7f23db6f4050>"
      ]
     },
     "execution_count": 30,
     "metadata": {},
     "output_type": "execute_result"
    },
    {
     "data": {
      "image/png": "[encoded data removed]",
      "text/plain": [
       "<matplotlib.figure.Figure at 0x7f23db7a4210>"
      ]
     },
     "metadata": {},
     "output_type": "display_data"
    }
   ],
   "source": [
    "ax = df_energy.plot(x=' Consumption (therms) ', y=' Consumption (GJ) ', kind=\"scatter\",alpha=0.2)\n",
    "ax.set_title(\"A Sample Scatterplot from the Data\")"
   ]
  },
  {
   "cell_type": "code",
   "execution_count": null,
   "metadata": {
    "collapsed": true
   },
   "outputs": [],
   "source": []
  }
 ],
 "metadata": {
  "kernelspec": {
   "display_name": "Python 2",
   "language": "python",
   "name": "python2"
  },
  "language_info": {
   "codemirror_mode": {
    "name": "ipython",
    "version": 2
   },
   "file_extension": ".py",
   "mimetype": "text/x-python",
   "name": "python",
   "nbconvert_exporter": "python",
   "pygments_lexer": "ipython2",
   "version": "2.7.11"
  }
 },
 "nbformat": 4,
 "nbformat_minor": 0
}
